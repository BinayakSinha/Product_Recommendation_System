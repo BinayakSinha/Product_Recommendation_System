{
 "cells": [
  {
   "cell_type": "code",
   "execution_count": 1,
   "id": "839c91fe",
   "metadata": {},
   "outputs": [],
   "source": [
    "import pandas as pd\n",
    "import numpy as np\n",
    "import matplotlib.pyplot as plt"
   ]
  },
  {
   "cell_type": "code",
   "execution_count": 2,
   "id": "8fe1e8dd",
   "metadata": {},
   "outputs": [],
   "source": [
    "import warnings\n",
    "warnings.filterwarnings(\"ignore\");"
   ]
  },
  {
   "cell_type": "code",
   "execution_count": 3,
   "id": "e3177728",
   "metadata": {},
   "outputs": [],
   "source": [
    "from bs4 import BeautifulSoup\n",
    "from urllib.request import urlopen, Request\n",
    "import requests"
   ]
  },
  {
   "cell_type": "code",
   "execution_count": 6,
   "id": "a4947b79",
   "metadata": {},
   "outputs": [],
   "source": [
    "url=\"https://www.amazon.in/s?k=keyboards&page=2\""
   ]
  },
  {
   "cell_type": "code",
   "execution_count": 7,
   "id": "ab387697",
   "metadata": {},
   "outputs": [],
   "source": [
    "uClient = urlopen(url)\n",
    "page_html = uClient.read()\n",
    "uClient.close()"
   ]
  },
  {
   "cell_type": "code",
   "execution_count": 8,
   "id": "69ec0033",
   "metadata": {},
   "outputs": [],
   "source": [
    "page_soup = BeautifulSoup(page_html, features='html')"
   ]
  },
  {
   "cell_type": "code",
   "execution_count": 9,
   "id": "2eb186b3",
   "metadata": {},
   "outputs": [],
   "source": [
    "product_class_name = \"puisg-col puisg-col-4-of-4 puisg-col-4-of-8 puisg-col-8-of-12 puisg-col-8-of-16 puisg-col-12-of-20 puisg-col-12-of-24 puis-list-col-right\""
   ]
  },
  {
   "cell_type": "code",
   "execution_count": 10,
   "id": "9d17cc50",
   "metadata": {},
   "outputs": [],
   "source": [
    "containers = page_soup.find_all(\"div\", {\"class\": product_class_name})"
   ]
  },
  {
   "cell_type": "code",
   "execution_count": 11,
   "id": "4a909692",
   "metadata": {},
   "outputs": [
    {
     "name": "stdout",
     "output_type": "stream",
     "text": [
      "<div class=\"puisg-col puisg-col-4-of-4 puisg-col-4-of-8 puisg-col-8-of-12 puisg-col-8-of-16 puisg-col-12-of-20 puisg-col-12-of-24 puis-list-col-right\"><div class=\"puisg-col-inner\"><div class=\"a-section a-spacing-small a-spacing-top-small\"><div class=\"a-section a-spacing-none puis-padding-right-small s-title-instructions-style puis-desktop-list-title-instructions-style\" data-cy=\"title-recipe\"><a class=\"a-link-normal s-line-clamp-2 s-line-clamp-3-for-col-12 s-link-style a-text-normal\" href=\"/EvoFox-Backlighting-Replaceable-Anti-Ghosting-Multifunction/dp/B0DDV1GWP7\" target=\"_blank\"><h2 aria-label=\"EvoFox Katana X2 TKL Mechanical Gaming Keyboard | 3‑Pin Replaceable Clicky Blue Switches, Dynamic Backlighting, All Keys Anti‑Ghosting, Volume Knob, Copilot, Xbox Gamebar, Screenshot &amp; More (Black)\" class=\"a-size-medium a-spacing-none a-color-base a-text-normal\"><span>EvoFox Katana X2 TKL Mechanical Gaming Keyboard | 3‑Pin Replaceable Clicky Blue Switches, Dynamic Backlighting, All Keys Anti‑Ghosting, Volume Knob, Copilot, Xbox Gamebar, Screenshot &amp; More (Black)</span></h2></a> </div><div class=\"a-section a-spacing-none a-spacing-top-micro\" data-cy=\"reviews-block\"><div class=\"a-row a-size-small\"><span class=\"a-declarative\" data-a-popover='{\"position\":\"triggerBottom\",\"popoverLabel\":\"4.2 out of 5 stars, rating details\",\"url\":\"/review/widgets/average-customer-review/popover/ref=acr_search__popover?ie=UTF8&amp;asin=B0DDV1GWP7&amp;ref_=acr_search__popover&amp;contextId=search\",\"closeButton\":true,\"closeButtonLabel\":\"\"}' data-action=\"a-popover\" data-csa-c-func-deps=\"aui-da-a-popover\" data-csa-c-type=\"widget\" data-render-id=\"r2bfy6edijx0la2351w5jtsc0o7\" data-version-id=\"vkh8i5perkddu2r7ogc2c0qfsb\"><a aria-label=\"4.2 out of 5 stars, rating details\" class=\"a-popover-trigger a-declarative\" href=\"javascript:void(0)\" role=\"button\"><i aria-hidden=\"true\" class=\"a-icon a-icon-star-mini a-star-mini-4\" data-cy=\"reviews-ratings-slot\"><span class=\"a-icon-alt\">4.2 out of 5 stars</span></i><i class=\"a-icon a-icon-popover\"></i></a></span> <a aria-label=\"985 ratings\" class=\"a-link-normal s-underline-text s-underline-link-text s-link-style\" href=\"/EvoFox-Backlighting-Replaceable-Anti-Ghosting-Multifunction/dp/B0DDV1GWP7#customerReviews\" target=\"_blank\"><span aria-hidden=\"true\" class=\"a-size-base s-underline-text\">985</span> </a> </div><div class=\"a-row a-size-base\"><span class=\"a-size-base a-color-secondary\">600+ bought in past month</span></div></div><div class=\"puisg-row puis-desktop-list-row\"><div class=\"puisg-col puisg-col-4-of-4 puisg-col-4-of-8 puisg-col-4-of-12 puisg-col-4-of-16 puisg-col-4-of-20 puisg-col-4-of-24\"><div class=\"puisg-col-inner\"><div class=\"a-section a-spacing-none a-spacing-top-micro puis-price-instructions-style\" data-cy=\"price-recipe\"><div class=\"a-row a-spacing-mini a-size-base a-color-base\"><a class=\"a-size-base a-link-normal s-underline-text s-underline-link-text s-link-style a-text-bold\" href=\"/EvoFox-Backlighting-Replaceable-Anti-Ghosting-Multifunction/dp/B0DDV1GWP7\">Linux</a> </div><div class=\"a-row\"><a class=\"a-link-normal\" href=\"/deals\"><span class=\"a-badge\" data-a-badge-type=\"deal\" id=\"DEAL_B0DDV1GWP7\"><span class=\"a-badge-label\" data-a-badge-color=\"sx-red-mvt\" id=\"DEAL_B0DDV1GWP7-label\"><span class=\"a-badge-label-inner a-text-ellipsis\"><span class=\"a-badge-text\" data-a-badge-color=\"sx-cloud\">Great Indian Festival </span></span></span></span></a></div><div class=\"a-row a-size-base a-color-base\"><div class=\"a-row\"><span class=\"aok-offscreen\" id=\"price-link\">Price, product page</span><a aria-describedby=\"price-link\" class=\"a-link-normal s-no-hover s-underline-text s-underline-link-text s-link-style a-text-normal\" href=\"/EvoFox-Backlighting-Replaceable-Anti-Ghosting-Multifunction/dp/B0DDV1GWP7\" target=\"_blank\"><span class=\"a-price\" data-a-color=\"base\" data-a-size=\"xl\"><span class=\"a-offscreen\">₹1,649</span><span aria-hidden=\"true\"><span class=\"a-price-symbol\">₹</span><span class=\"a-price-whole\">1,649</span></span></span> <span class=\"a-size-base a-color-secondary\">(<span class=\"a-price a-text-price\" data-a-color=\"secondary\" data-a-size=\"b\"><span class=\"a-offscreen\">₹1,64,900</span><span aria-hidden=\"true\">₹1,64,900</span></span>/100 g)</span> <span class=\"a-offscreen\">M.R.P: ₹3,299</span><div aria-hidden=\"M.R.P: ₹3,299\" class=\"a-section aok-inline-block\"><span class=\"a-size-base a-color-secondary\">M.R.P: </span><span class=\"a-price a-text-price\" data-a-color=\"secondary\" data-a-size=\"b\" data-a-strike=\"true\"><span class=\"a-offscreen\">₹3,299</span><span aria-hidden=\"true\">₹3,299</span></span></div></a> <span class=\"a-letter-space\"></span><span>(50% off)</span></div><div class=\"a-row\"></div></div><div class=\"a-row a-size-base a-color-secondary\"><span class=\"a-color-secondary\"><span class=\"rush-component\" data-component-type=\"s-truncate\" data-render-id=\"r2bfy6edijx0la2351w5jtsc0o7\" data-version-id=\"vkh8i5perkddu2r7ogc2c0qfsb\"><span class=\"a-truncate\" data-a-max-rows=\"1\" data-a-overflow-marker=\"...\" data-a-word-break=\"normal\" style=\"line-height: 1.3em !important; max-height: 1.3em;\"><span class=\"a-truncate-full\">Up to 5% back with Amazon Pay ICICI card</span><span aria-hidden=\"true\" class=\"a-truncate-cut a-hidden\"></span></span></span></span></div></div><div class=\"a-section a-spacing-none a-spacing-top-micro\" data-cy=\"delivery-recipe\"><div class=\"a-row a-size-base a-color-secondary s-align-children-center\"><div class=\"a-row s-align-children-center\"><span class=\"aok-inline-block s-image-logo-view\"><span class=\"aok-relative s-icon-text-medium s-prime\"><i aria-label=\"Amazon Prime\" class=\"a-icon a-icon-prime a-icon-medium\" role=\"img\"></i></span><span></span></span> </div><div class=\"a-row\"><span aria-label=\"FREE delivery Thu, 25 Sept \"><span class=\"a-color-base\">FREE delivery </span><span class=\"a-color-base a-text-bold\">Thu, 25 Sept </span></span></div><div class=\"a-row\"><span aria-label=\"Or fastest delivery Tomorrow, 24 Sept \"><span class=\"a-color-base\">Or fastest delivery </span><span class=\"a-color-base a-text-bold\">Tomorrow, 24 Sept </span></span></div></div></div></div></div><div class=\"puisg-col puisg-col-4-of-4 puisg-col-4-of-8 puisg-col-4-of-12 puisg-col-4-of-16 puisg-col-8-of-20 puisg-col-8-of-24 puis-desktop-list-right-col\"><div class=\"puisg-col-inner\"></div></div></div><div class=\"puisg-row\"></div></div></div></div>\n"
     ]
    }
   ],
   "source": [
    "print(containers[0])"
   ]
  },
  {
   "cell_type": "code",
   "execution_count": null,
   "id": "d28143fe",
   "metadata": {},
   "outputs": [],
   "source": []
  }
 ],
 "metadata": {
  "kernelspec": {
   "display_name": "Python 3 (ipykernel)",
   "language": "python",
   "name": "python3"
  },
  "language_info": {
   "codemirror_mode": {
    "name": "ipython",
    "version": 3
   },
   "file_extension": ".py",
   "mimetype": "text/x-python",
   "name": "python",
   "nbconvert_exporter": "python",
   "pygments_lexer": "ipython3",
   "version": "3.11.5"
  }
 },
 "nbformat": 4,
 "nbformat_minor": 5
}
