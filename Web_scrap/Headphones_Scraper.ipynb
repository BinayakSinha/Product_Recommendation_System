{
 "cells": [
  {
   "cell_type": "code",
   "execution_count": null,
   "id": "9ebb448d",
   "metadata": {},
   "outputs": [],
   "source": [
    "import pandas as pd\n",
    "import numpy as np\n",
    "import matplotlib.pyplot as plt\n",
    "import time,random"
   ]
  },
  {
   "cell_type": "code",
   "execution_count": null,
   "id": "370a1639",
   "metadata": {},
   "outputs": [],
   "source": [
    "import warnings\n",
    "warnings.filterwarnings(\"ignore\");"
   ]
  },
  {
   "cell_type": "code",
   "execution_count": null,
   "id": "1d5548f1",
   "metadata": {},
   "outputs": [],
   "source": [
    "from bs4 import BeautifulSoup\n",
    "from urllib.request import urlopen, Request\n",
    "import requests"
   ]
  },
  {
   "cell_type": "code",
   "execution_count": null,
   "id": "0d34680a",
   "metadata": {},
   "outputs": [],
   "source": [
    "data_cols = [\n",
    "    \"Product_Name\",\n",
    "    \"Selling_Price\",\n",
    "    \"MRP\",\n",
    "    \"Discount\",\n",
    "    \"Noise_Control\",\n",
    "    \"Sensitivity\",\n",
    "    \"Headphones_Jack\",\n",
    "    \"Model_Name\",\n",
    "    \"Connectivity_Technology\",\n",
    "    \"Wireless_Communication_Technology\",\n",
    "    \"Included_Components\",\n",
    "    \"Material\",\n",
    "    \"Specific_Uses_For_Product\",\n",
    "    \"Charging_Time\",\n",
    "    \"Compatible_Devices\",\n",
    "    \"Item_Weight\",\n",
    "    \"Water_Resistance_Level\",\n",
    "    \"Net_Quantity\",\n",
    "    \"Style\",\n",
    "    \"Control_Method\",\n",
    "    \"Number_of_Items\",\n",
    "    \"Battery_Life\",\n",
    "    \"Audio_Driver_Type\",\n",
    "    \"Bluetooth_Version\",\n",
    "    \"Audio_Driver_Size\",\n",
    "    \"Earpiece_Shape\",\n",
    "    \"Special_Features\",\n",
    "    \"Manufacturer\",\n",
    "    \"Model\",\n",
    "    \"Product_Dimensions\",\n",
    "    \"Item_Model_Number\",\n",
    "    \"Batteries\",\n",
    "    \"Batteries_Required\",\n",
    "    \"Country_of_Origin\"\n",
    "]\n"
   ]
  },
  {
   "cell_type": "code",
   "execution_count": null,
   "id": "18b8b0d7",
   "metadata": {},
   "outputs": [],
   "source": [
    "data = {col: [] for col in data_cols}"
   ]
  },
  {
   "cell_type": "code",
   "execution_count": null,
   "id": "2b15c49b",
   "metadata": {},
   "outputs": [],
   "source": [
    "def get_feature(soup, name):\n",
    "    row = soup.find(\"th\", string=lambda t: t and name in t)\n",
    "    if row:\n",
    "        return row.find_next(\"td\").get_text(strip=True)\n",
    "    return None\n"
   ]
  },
  {
   "cell_type": "code",
   "execution_count": null,
   "id": "dd0c91b8",
   "metadata": {},
   "outputs": [],
   "source": [
    "headers = {\n",
    "    \"User-Agent\": (\n",
    "        \"Mozilla/5.0 (Windows NT 10.0; Win64; x64) \"\n",
    "        \"AppleWebKit/537.36 (KHTML, like Gecko) \"\n",
    "        \"Chrome/120.0.0.0 Safari/537.36\"\n",
    "    ),\n",
    "    \"Accept-Language\": \"en-US,en;q=0.9\",\n",
    "}\n",
    "\n",
    "def safe_append(key, value):\n",
    "    if key not in data:\n",
    "        data[key] = []\n",
    "    data[key].append(value)\n",
    "\n",
    "# ✅ Helper to extract features\n",
    "def get_feature(soup, label):\n",
    "    row = soup.find(\"span\", string=lambda x: x and label in x)\n",
    "    if row:\n",
    "        val = row.find_next(\"span\")\n",
    "        return val.get_text(strip=True) if val else None\n",
    "    return None\n",
    "\n",
    "# ✅ Scraper function\n",
    "def scrap(c, i):\n",
    "    a_tag = c.find(\"a\", class_=\"a-link-normal\")\n",
    "    if not a_tag:\n",
    "        return\n",
    "\n",
    "    link = \"https://www.amazon.in\" + a_tag[\"href\"]\n",
    "    title = a_tag.get_text(strip=True)\n",
    "\n",
    "    # request with headers\n",
    "    try:\n",
    "        r = requests.get(link, headers=headers, timeout=10)\n",
    "        if r.status_code == 200:\n",
    "            soup = BeautifulSoup(r.text, \"html.parser\")\n",
    "            print(f\"✅ Page {i} scraped\")\n",
    "        else:\n",
    "            print(f\"⚠️ Failed page {i}, status:\", r.status_code)\n",
    "            return\n",
    "    except requests.exceptions.RequestException as e:\n",
    "        print(f\"❌ Error fetching page {i}:\", e)\n",
    "        return\n",
    "\n",
    "    time.sleep(random.uniform(2, 6))\n",
    "\n",
    "    # main values\n",
    "    price = soup.find(\"span\", class_=\"a-price-whole\")\n",
    "    mrp = soup.find(\"span\", class_=\"a-price a-text-price\")\n",
    "    discount = soup.find(\"span\", class_=\"savingsPercentage\")\n",
    "\n",
    "    safe_append(\"Product_Name\", title)\n",
    "    safe_append(\"Selling_Price\", price.get_text(strip=True) if price else None)\n",
    "    safe_append(\"MRP\", mrp.get_text(strip=True) if mrp else None)\n",
    "    safe_append(\"Discount\", discount.get_text(strip=True) if discount else None)\n",
    "\n",
    "    # loop through features\n",
    "    feature_map = {\n",
    "        \"Noise Control\": \"Noise_Control\",\n",
    "        \"Sensitivity\": \"Sensitivity\",\n",
    "        \"Headphones Jack\": \"Headphones_Jack\",\n",
    "        \"Model Name\": \"Model_Name\",\n",
    "        \"Connectivity Technology\": \"Connectivity_Technology\",\n",
    "        \"Wireless Communication Technology\": \"Wireless_Communication_Technology\",\n",
    "        \"Included Components\": \"Included_Components\",\n",
    "        \"Material\": \"Material\",\n",
    "        \"Specific Uses For Product\": \"Specific_Uses_For_Product\",\n",
    "        \"Charging Time\": \"Charging_Time\",\n",
    "        \"Compatible Devices\": \"Compatible_Devices\",\n",
    "        \"Item Weight\": \"Item_Weight\",\n",
    "        \"Water Resistance Level\": \"Water_Resistance_Level\",\n",
    "        \"Net Quantity\": \"Net_Quantity\",\n",
    "        \"Style\": \"Style\",\n",
    "        \"Control Method\": \"Control_Method\",\n",
    "        \"Number of Items\": \"Number_of_Items\",\n",
    "        \"Battery Life\": \"Battery_Life\",\n",
    "        \"Audio Driver Type\": \"Audio_Driver_Type\",\n",
    "        \"Bluetooth Version\": \"Bluetooth_Version\",\n",
    "        \"Audio Driver Size\": \"Audio_Driver_Size\",\n",
    "        \"Earpiece Shape\": \"Earpiece_Shape\",\n",
    "        \"Special Feature\": \"Special_Features\",\n",
    "        \"Special Features\": \"Special_Features\",\n",
    "        \"Manufacturer\": \"Manufacturer\",\n",
    "        \"Model\": \"Model\",\n",
    "        \"Product Dimensions\": \"Product_Dimensions\",\n",
    "        \"Item model number\": \"Item_Model_Number\",\n",
    "        \"Batteries\": \"Batteries\",\n",
    "        \"Batteries Required\": \"Batteries_Required\",\n",
    "        \"Country of Origin\": \"Country_of_Origin\"\n",
    "    }\n",
    "\n",
    "    for key, label in feature_map.items():\n",
    "        safe_append(key, get_feature(soup, label))"
   ]
  },
  {
   "cell_type": "code",
   "execution_count": null,
   "id": "6062227e",
   "metadata": {},
   "outputs": [],
   "source": [
    "for i in range(1,30):\n",
    "    url=f\"https://www.amazon.in/s?k=headphones&i=computers&page={i}&xpid=TMfoc7lZx3xLb&crid=1FMYGN6S9G4QP&qid=1758171013&sprefix=headphones%2Ccomputers%2C417&ref=sr_pg_{i}\"\n",
    "    uClient = urlopen(url)\n",
    "    page_html = uClient.read()\n",
    "    uClient.close()\n",
    "    soup = BeautifulSoup(page_html, features='html')\n",
    "    containers = soup.find_all(\n",
    "        \"div\",\n",
    "        {\"class\": \"a-section a-spacing-none puis-padding-right-small s-title-instructions-style puis-desktop-list-title-instructions-style\"}\n",
    "    )\n",
    "\n",
    "    for c in containers:\n",
    "        scrap(c,i)\n",
    "        time.sleep(random.uniform(2, 6))"
   ]
  },
  {
   "cell_type": "code",
   "execution_count": null,
   "id": "a8053871",
   "metadata": {},
   "outputs": [],
   "source": [
    "!pip install pymongo\n",
    "from pymongo import MongoClient"
   ]
  },
  {
   "cell_type": "code",
   "execution_count": null,
   "id": "b5800201",
   "metadata": {},
   "outputs": [],
   "source": [
    "max_len = max(len(v) for v in data.values())\n",
    "for k, v in data.items():\n",
    "    if len(v) < max_len:\n",
    "        v.extend([None] * (max_len - len(v)))  # pad missing with None\n",
    "\n",
    "# Now safe to convert\n",
    "df = pd.DataFrame(data)\n",
    "\n",
    "# Save to CSV\n",
    "df.to_csv(\"headphones_scrape.csv\", index=False, encoding=\"utf-8-sig\")\n",
    "print(\"✅ CSV saved with\", len(df), \"rows\")"
   ]
  },
  {
   "cell_type": "code",
   "execution_count": null,
   "id": "6a7080a4",
   "metadata": {},
   "outputs": [],
   "source": [
    "client=MongoClient(\"mongodb://localhost:27017/\")"
   ]
  },
  {
   "cell_type": "code",
   "execution_count": null,
   "id": "b99c448c",
   "metadata": {},
   "outputs": [],
   "source": [
    "db = client[\"flipkart_database\"]\n",
    "collection = db[\"headphones\"]\n",
    "data_dict = final_df.to_dict(\"records\")"
   ]
  },
  {
   "cell_type": "code",
   "execution_count": null,
   "id": "99263c43",
   "metadata": {},
   "outputs": [],
   "source": [
    "collection.insert_many(data_dict)\n",
    "print(\"Dataframe inserted\")"
   ]
  }
 ],
 "metadata": {
  "kernelspec": {
   "display_name": "Python 3 (ipykernel)",
   "language": "python",
   "name": "python3"
  },
  "language_info": {
   "codemirror_mode": {
    "name": "ipython",
    "version": 3
   },
   "file_extension": ".py",
   "mimetype": "text/x-python",
   "name": "python",
   "nbconvert_exporter": "python",
   "pygments_lexer": "ipython3",
   "version": "3.11.5"
  }
 },
 "nbformat": 4,
 "nbformat_minor": 5
}
